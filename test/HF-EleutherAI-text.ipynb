{
 "cells": [
  {
   "cell_type": "code",
   "execution_count": 1,
   "metadata": {},
   "outputs": [
    {
     "name": "stderr",
     "output_type": "stream",
     "text": [
      "c:\\Users\\denis\\AppData\\Local\\Programs\\Python\\Python310\\lib\\site-packages\\tqdm\\auto.py:21: TqdmWarning: IProgress not found. Please update jupyter and ipywidgets. See https://ipywidgets.readthedocs.io/en/stable/user_install.html\n",
      "  from .autonotebook import tqdm as notebook_tqdm\n",
      "Device set to use cpu\n",
      "Truncation was not explicitly activated but `max_length` is provided a specific value, please use `truncation=True` to explicitly truncate examples to max length. Defaulting to 'longest_first' truncation strategy. If you encode pairs of sequences (GLUE-style) with the tokenizer you can select this strategy more precisely by providing a specific strategy to `truncation`.\n",
      "Setting `pad_token_id` to `eos_token_id`:50256 for open-end generation.\n"
     ]
    },
    {
     "name": "stdout",
     "output_type": "stream",
     "text": [
      "the following text is a description of a man :\n",
      "\n",
      "He was, moreover, a very great man—the richest person in the\n",
      "country—and also very well-informed. His wife had two children by a\n",
      "man of the same name, whose daughter was a lady of respectability; and\n",
      "he had a second son by a lady of a very noble family, called the sister\n",
      "of the late Count de Villiers. His elder son, the firstborn, had become\n",
      "a soldier in the army. He was a man of much education, was liberal,\n",
      "and great in his actions.”\n",
      "\n",
      "“I see that you have received a great deal of education,” said I.\n",
      "\n",
      "“\n"
     ]
    }
   ],
   "source": [
    "from transformers import pipeline\n",
    "\n",
    "# Charger un modèle GPT-Neo plus performant\n",
    "generateur = pipeline(\"text-generation\", model=\"EleutherAI/gpt-neo-1.3B\")\n",
    "\n",
    "# Contexte amélioré\n",
    "contexte = \"the following text is a description of a man :\"\n",
    "\n",
    "# Générer le texte\n",
    "texte_genere = generateur(contexte, max_length=150, num_return_sequences=1)[0]['generated_text']\n",
    "\n",
    "print(texte_genere)\n"
   ]
  }
 ],
 "metadata": {
  "kernelspec": {
   "display_name": "Python 3",
   "language": "python",
   "name": "python3"
  },
  "language_info": {
   "codemirror_mode": {
    "name": "ipython",
    "version": 3
   },
   "file_extension": ".py",
   "mimetype": "text/x-python",
   "name": "python",
   "nbconvert_exporter": "python",
   "pygments_lexer": "ipython3",
   "version": "3.10.11"
  }
 },
 "nbformat": 4,
 "nbformat_minor": 2
}
